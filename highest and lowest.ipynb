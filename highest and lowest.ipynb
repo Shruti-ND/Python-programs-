{
 "cells": [
  {
   "cell_type": "markdown",
   "metadata": {},
   "source": [
    "# Highest and lowest of two numbers"
   ]
  },
  {
   "cell_type": "code",
   "execution_count": 1,
   "metadata": {},
   "outputs": [
    {
     "name": "stdout",
     "output_type": "stream",
     "text": [
      "Enter 2 nos.: 33\n",
      "1\n",
      "Highest no. is: 33\n"
     ]
    }
   ],
   "source": [
    "a=int(input('Enter 2 nos.: '))\n",
    "b=int(input())\n",
    "high=0\n",
    "\n",
    "if(a>b):\n",
    "    high=a\n",
    "else:\n",
    "    high=b\n",
    "    \n",
    "print (\"Highest no. is:\",high)"
   ]
  },
  {
   "cell_type": "code",
   "execution_count": 2,
   "metadata": {},
   "outputs": [
    {
     "name": "stdout",
     "output_type": "stream",
     "text": [
      "Enter 2 nos.: 123345\n",
      "24579\n",
      "Lowest of 2 nos. is:  24579\n"
     ]
    }
   ],
   "source": [
    "#wap to disp. lowest of given 2 nos.\n",
    "\n",
    "a=int(input('Enter 2 nos.: '))\n",
    "b=int(input())\n",
    "low=0\n",
    "if(a<b):\n",
    "    low=a\n",
    "else:\n",
    "    low=b\n",
    "print ('Lowest of 2 nos. is: ',low)"
   ]
  },
  {
   "cell_type": "markdown",
   "metadata": {},
   "source": [
    "#wap for highest and lowest of 2 given nos."
   ]
  },
  {
   "cell_type": "code",
   "execution_count": 4,
   "metadata": {},
   "outputs": [
    {
     "name": "stdout",
     "output_type": "stream",
     "text": [
      "Enter 2 nos.: 1000\n",
      "00098\n",
      "Highest num is:  1000\n",
      "Lowest num is:  98\n"
     ]
    }
   ],
   "source": [
    "a=int(input('Enter 2 nos.: '))\n",
    "b=int(input())\n",
    "h=0\n",
    "l=0\n",
    "\n",
    "if(a>b):\n",
    "    h=a\n",
    "    l=b\n",
    "else:\n",
    "    h=b\n",
    "    l=a\n",
    "print ('Highest num is: ',h)\n",
    "print('Lowest num is: ',l)\n",
    "    \n"
   ]
  },
  {
   "cell_type": "code",
   "execution_count": null,
   "metadata": {},
   "outputs": [],
   "source": []
  }
 ],
 "metadata": {
  "kernelspec": {
   "display_name": "Python 3",
   "language": "python",
   "name": "python3"
  },
  "language_info": {
   "codemirror_mode": {
    "name": "ipython",
    "version": 3
   },
   "file_extension": ".py",
   "mimetype": "text/x-python",
   "name": "python",
   "nbconvert_exporter": "python",
   "pygments_lexer": "ipython3",
   "version": "3.7.3"
  }
 },
 "nbformat": 4,
 "nbformat_minor": 2
}
