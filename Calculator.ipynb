{
 "cells": [
  {
   "cell_type": "markdown",
   "metadata": {},
   "source": [
    "# Basic calculator program using python"
   ]
  },
  {
   "cell_type": "code",
   "execution_count": 2,
   "metadata": {},
   "outputs": [
    {
     "name": "stdout",
     "output_type": "stream",
     "text": [
      "Enter the 1 no. : 111\n",
      "Enter the 2 no. : 698\n",
      "\n",
      "Sum:  809\n",
      "\n",
      "Difference:  -587\n",
      "\n",
      "Product:  77478\n",
      "\n",
      "Quotient:  0.15902578796561603\n",
      "\n",
      "Remainder:  111\n"
     ]
    }
   ],
   "source": [
    "a=int(input('Enter the 1 no. : '))\n",
    "b=int(input('Enter the 2 no. : '))\n",
    "\n",
    "res=a+b\n",
    "print ()\n",
    "print ('Sum: ',res)\n",
    "res=a-b\n",
    "print ()\n",
    "print ('Difference: ',res)\n",
    "res=a*b\n",
    "print ()\n",
    "print ('Product: ',res)\n",
    "res=a/b\n",
    "print ()\n",
    "print ('Quotient: ',res)\n",
    "res=a%b\n",
    "print ()\n",
    "print ('Remainder: ',res)\n",
    "\n"
   ]
  },
  {
   "cell_type": "code",
   "execution_count": null,
   "metadata": {},
   "outputs": [],
   "source": []
  }
 ],
 "metadata": {
  "kernelspec": {
   "display_name": "Python 3",
   "language": "python",
   "name": "python3"
  },
  "language_info": {
   "codemirror_mode": {
    "name": "ipython",
    "version": 3
   },
   "file_extension": ".py",
   "mimetype": "text/x-python",
   "name": "python",
   "nbconvert_exporter": "python",
   "pygments_lexer": "ipython3",
   "version": "3.7.3"
  }
 },
 "nbformat": 4,
 "nbformat_minor": 2
}
